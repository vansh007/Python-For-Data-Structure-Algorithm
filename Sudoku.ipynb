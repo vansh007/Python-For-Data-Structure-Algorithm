{
 "cells": [
  {
   "cell_type": "code",
   "execution_count": 4,
   "metadata": {
    "collapsed": false
   },
   "outputs": [],
   "source": [
    "def findNextCellToFill(grid, i, j):\n",
    "            for x in range(i,9):\n",
    "                    for y in range(j,9):\n",
    "                            if grid[x][y] == 0:\n",
    "                                    return x,y\n",
    "            for x in range(0,9):\n",
    "                    for y in range(0,9):\n",
    "                            if grid[x][y] == 0:\n",
    "                                    return x,y\n",
    "            return -1,-1\n",
    "def isValid(grid, i, j, e):\n",
    "            rowOk = all([e != grid[i][x] for x in range(9)])\n",
    "            if rowOk:\n",
    "                    columnOk = all([e != grid[x][j] for x in range(9)])\n",
    "                    if columnOk:\n",
    "                            # finding the top left x,y co-ordinates of the section containing the i,j cell\n",
    "                            secTopX, secTopY = 3 *(i/3), 3 *(j/3)\n",
    "                            for x in range(secTopX, secTopX+3):\n",
    "                                    for y in range(secTopY, secTopY+3):\n",
    "                                            if grid[x][y] == e:\n",
    "                                                    return False\n",
    "                            return True\n",
    "            return False\n",
    "def solveSudoku(grid, i=0, j=0):\n",
    "            i,j = findNextCellToFill(grid, i, j)\n",
    "            if i == -1:\n",
    "                    return True\n",
    "            for e in range(1,10):\n",
    "                    if isValid(grid,i,j,e):\n",
    "                            grid[i][j] = e\n",
    "                            if solveSudoku(grid, i, j):\n",
    "                                    return True\n",
    "                            # Undo the current cell for backtracking\n",
    "                            grid[i][j] = 0\n",
    "            return False"
   ]
  },
  {
   "cell_type": "code",
   "execution_count": null,
   "metadata": {
    "collapsed": true
   },
   "outputs": [],
   "source": []
  }
 ],
 "metadata": {
  "kernelspec": {
   "display_name": "Python 2",
   "language": "python",
   "name": "python2"
  },
  "language_info": {
   "codemirror_mode": {
    "name": "ipython",
    "version": 2
   },
   "file_extension": ".py",
   "mimetype": "text/x-python",
   "name": "python",
   "nbconvert_exporter": "python",
   "pygments_lexer": "ipython2",
   "version": "2.7.12"
  }
 },
 "nbformat": 4,
 "nbformat_minor": 0
}

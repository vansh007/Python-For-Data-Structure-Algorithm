{
 "cells": [
  {
   "cell_type": "markdown",
   "metadata": {},
   "source": [
    "# Dynamic Arrays Size and length\n"
   ]
  },
  {
   "cell_type": "code",
   "execution_count": 9,
   "metadata": {
    "collapsed": false
   },
   "outputs": [
    {
     "name": "stdout",
     "output_type": "stream",
     "text": [
      "Length:   0; Size in Bytes:   64; \n",
      "Length:   1; Size in Bytes:   96; \n",
      "Length:   2; Size in Bytes:   96; \n",
      "Length:   3; Size in Bytes:   96; \n",
      "Length:   4; Size in Bytes:   96; \n",
      "Length:   5; Size in Bytes:  128; \n",
      "Length:   6; Size in Bytes:  128; \n",
      "Length:   7; Size in Bytes:  128; \n",
      "Length:   8; Size in Bytes:  128; \n",
      "Length:   9; Size in Bytes:  192; \n"
     ]
    }
   ],
   "source": [
    "\n",
    "\n",
    "import sys\n",
    "\n",
    "# Set n\n",
    "n = 10\n",
    "\n",
    "# Make an empty list\n",
    "data = []\n",
    "\n",
    "for i in range(n):\n",
    "    # Number of elements\n",
    "    a = len(data)\n",
    "    \n",
    "    #Actual size in bytes\n",
    "    b = sys.getsizeof(data)\n",
    "    \n",
    "    print 'Length: {0:3d}; Size in Bytes: {1:4d}; '.format(a, b)\n",
    "    \n",
    "    #Increase length by one\n",
    "    data.append(n)"
   ]
  },
  {
   "cell_type": "markdown",
   "metadata": {},
   "source": []
  },
  {
   "cell_type": "code",
   "execution_count": null,
   "metadata": {
    "collapsed": true
   },
   "outputs": [],
   "source": []
  },
  {
   "cell_type": "code",
   "execution_count": null,
   "metadata": {
    "collapsed": true
   },
   "outputs": [],
   "source": []
  }
 ],
 "metadata": {
  "kernelspec": {
   "display_name": "Python 2",
   "language": "python",
   "name": "python2"
  },
  "language_info": {
   "codemirror_mode": {
    "name": "ipython",
    "version": 2
   },
   "file_extension": ".py",
   "mimetype": "text/x-python",
   "name": "python",
   "nbconvert_exporter": "python",
   "pygments_lexer": "ipython2",
   "version": "2.7.12"
  }
 },
 "nbformat": 4,
 "nbformat_minor": 0
}

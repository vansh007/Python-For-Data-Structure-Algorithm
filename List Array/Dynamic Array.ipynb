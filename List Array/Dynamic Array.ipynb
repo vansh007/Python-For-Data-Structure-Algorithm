{
 "cells": [
  {
   "cell_type": "markdown",
   "metadata": {},
   "source": [
    "# Dynamic Arrays\n"
   ]
  },
  {
   "cell_type": "code",
   "execution_count": 7,
   "metadata": {
    "collapsed": false
   },
   "outputs": [
    {
     "name": "stdout",
     "output_type": "stream",
     "text": [
      "Length:   0; Size in Bytes:   64; \n",
      "Length:   1; Size in Bytes:   96; \n",
      "Length:   2; Size in Bytes:   96; \n",
      "Length:   3; Size in Bytes:   96; \n",
      "Length:   4; Size in Bytes:   96; \n",
      "Length:   5; Size in Bytes:  128; \n",
      "Length:   6; Size in Bytes:  128; \n",
      "Length:   7; Size in Bytes:  128; \n",
      "Length:   8; Size in Bytes:  128; \n",
      "Length:   9; Size in Bytes:  192; \n",
      "Length:  10; Size in Bytes:  192; \n",
      "Length:  11; Size in Bytes:  192; \n",
      "Length:  12; Size in Bytes:  192; \n",
      "Length:  13; Size in Bytes:  192; \n",
      "Length:  14; Size in Bytes:  192; \n",
      "Length:  15; Size in Bytes:  192; \n",
      "Length:  16; Size in Bytes:  192; \n",
      "Length:  17; Size in Bytes:  264; \n",
      "Length:  18; Size in Bytes:  264; \n",
      "Length:  19; Size in Bytes:  264; \n",
      "Length:  20; Size in Bytes:  264; \n",
      "Length:  21; Size in Bytes:  264; \n",
      "Length:  22; Size in Bytes:  264; \n",
      "Length:  23; Size in Bytes:  264; \n",
      "Length:  24; Size in Bytes:  264; \n",
      "Length:  25; Size in Bytes:  264; \n",
      "Length:  26; Size in Bytes:  344; \n",
      "Length:  27; Size in Bytes:  344; \n",
      "Length:  28; Size in Bytes:  344; \n",
      "Length:  29; Size in Bytes:  344; \n",
      "Length:  30; Size in Bytes:  344; \n",
      "Length:  31; Size in Bytes:  344; \n",
      "Length:  32; Size in Bytes:  344; \n",
      "Length:  33; Size in Bytes:  344; \n",
      "Length:  34; Size in Bytes:  344; \n",
      "Length:  35; Size in Bytes:  344; \n",
      "Length:  36; Size in Bytes:  432; \n",
      "Length:  37; Size in Bytes:  432; \n",
      "Length:  38; Size in Bytes:  432; \n",
      "Length:  39; Size in Bytes:  432; \n",
      "Length:  40; Size in Bytes:  432; \n",
      "Length:  41; Size in Bytes:  432; \n",
      "Length:  42; Size in Bytes:  432; \n",
      "Length:  43; Size in Bytes:  432; \n",
      "Length:  44; Size in Bytes:  432; \n",
      "Length:  45; Size in Bytes:  432; \n",
      "Length:  46; Size in Bytes:  432; \n",
      "Length:  47; Size in Bytes:  528; \n",
      "Length:  48; Size in Bytes:  528; \n",
      "Length:  49; Size in Bytes:  528; \n"
     ]
    }
   ],
   "source": [
    "\n",
    "\n",
    "import sys\n",
    "\n",
    "# Set n\n",
    "n = 50\n",
    "\n",
    "# Make an empty list\n",
    "data = []\n",
    "\n",
    "for i in range(n):\n",
    "    # Number of elements\n",
    "    a = len(data)\n",
    "    \n",
    "    #Actual size in bytes\n",
    "    b = sys.getsizeof(data)\n",
    "    \n",
    "    print 'Length: {0:3d}; Size in Bytes: {1:4d}; '.format(a, b)\n",
    "    \n",
    "    #Increase length by one\n",
    "    data.append(n)"
   ]
  },
  {
   "cell_type": "code",
   "execution_count": null,
   "metadata": {
    "collapsed": true
   },
   "outputs": [],
   "source": []
  },
  {
   "cell_type": "code",
   "execution_count": null,
   "metadata": {
    "collapsed": true
   },
   "outputs": [],
   "source": []
  },
  {
   "cell_type": "code",
   "execution_count": null,
   "metadata": {
    "collapsed": true
   },
   "outputs": [],
   "source": []
  }
 ],
 "metadata": {
  "kernelspec": {
   "display_name": "Python 2",
   "language": "python",
   "name": "python2"
  },
  "language_info": {
   "codemirror_mode": {
    "name": "ipython",
    "version": 2
   },
   "file_extension": ".py",
   "mimetype": "text/x-python",
   "name": "python",
   "nbconvert_exporter": "python",
   "pygments_lexer": "ipython2",
   "version": "2.7.12"
  }
 },
 "nbformat": 4,
 "nbformat_minor": 0
}

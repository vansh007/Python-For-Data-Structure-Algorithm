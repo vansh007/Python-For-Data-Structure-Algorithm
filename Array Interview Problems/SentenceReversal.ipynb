{
 "cells": [
  {
   "cell_type": "markdown",
   "metadata": {},
   "source": [
    "#### We can use inbuilt functions:\n"
   ]
  },
  {
   "cell_type": "code",
   "execution_count": 25,
   "metadata": {
    "collapsed": false
   },
   "outputs": [
    {
     "name": "stdout",
     "output_type": "stream",
     "text": [
      "Vansh am I Hello\n",
      "Vansh am I Hello\n"
     ]
    }
   ],
   "source": [
    "def rev_word1(s):\n",
    "    return \" \".join(reversed(s.split()))\n",
    "\n",
    "#Or\n",
    "\n",
    "def rev_word2(s):\n",
    "    return \" \".join(s.split()[::-1])\n",
    "\n",
    "print rev_word1('  Hello I am     Vansh')\n",
    "print rev_word2('  Hello I am     Vansh')"
   ]
  },
  {
   "cell_type": "markdown",
   "metadata": {},
   "source": [
    "### Manual Solution"
   ]
  },
  {
   "cell_type": "code",
   "execution_count": 29,
   "metadata": {
    "collapsed": false
   },
   "outputs": [],
   "source": [
    "def rev_words(s):\n",
    "    \n",
    "    words = []\n",
    "    length = len(s)\n",
    "    space = [' ']\n",
    "    \n",
    "    i = 0\n",
    "    \n",
    "    while i < length:\n",
    "        #If the word is not whitespace, start.\n",
    "        if s[i] not in space: \n",
    "            word_start = i\n",
    "            \n",
    "            #Continue untill whitespace\n",
    "            while i<length and s[i] not in space: \n",
    "                i += 1\n",
    "                \n",
    "            #Append start and end. here ith term is the end.\n",
    "            words.append(s[word_start:i]) \n",
    "            \n",
    "        #Increment index of i and keep doing this untill end.    \n",
    "        i+=1 \n",
    "        \n",
    "    return \" \".join(reversed(words))\n"
   ]
  },
  {
   "cell_type": "code",
   "execution_count": 30,
   "metadata": {
    "collapsed": false
   },
   "outputs": [
    {
     "data": {
      "text/plain": [
       "'Vansh am I Hello'"
      ]
     },
     "execution_count": 30,
     "metadata": {},
     "output_type": "execute_result"
    }
   ],
   "source": [
    "rev_words('  Hello I am     Vansh')"
   ]
  },
  {
   "cell_type": "code",
   "execution_count": null,
   "metadata": {
    "collapsed": true
   },
   "outputs": [],
   "source": []
  }
 ],
 "metadata": {
  "kernelspec": {
   "display_name": "Python 2",
   "language": "python",
   "name": "python2"
  },
  "language_info": {
   "codemirror_mode": {
    "name": "ipython",
    "version": 2
   },
   "file_extension": ".py",
   "mimetype": "text/x-python",
   "name": "python",
   "nbconvert_exporter": "python",
   "pygments_lexer": "ipython2",
   "version": "2.7.12"
  }
 },
 "nbformat": 4,
 "nbformat_minor": 0
}

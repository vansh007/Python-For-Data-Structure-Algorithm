{
 "cells": [
  {
   "cell_type": "code",
   "execution_count": 5,
   "metadata": {
    "collapsed": false
   },
   "outputs": [
    {
     "name": "stdout",
     "output_type": "stream",
     "text": [
      "g\n",
      "gn\n",
      "gni\n",
      "gnir\n",
      "gnirt\n",
      "gnirts\n",
      "gnirts\n"
     ]
    }
   ],
   "source": [
    "\n",
    "def reverse(string):\n",
    " \n",
    "    i = len(string)\n",
    "    rev = \"\"\n",
    "    while i != 0:\n",
    "        rev = rev + string[i-1]\n",
    "        i = i - 1\n",
    "        #print rev\n",
    "    return rev\n",
    " \n",
    "\n",
    "print(reverse(\"string\"))"
   ]
  },
  {
   "cell_type": "code",
   "execution_count": null,
   "metadata": {
    "collapsed": true
   },
   "outputs": [],
   "source": []
  }
 ],
 "metadata": {
  "kernelspec": {
   "display_name": "Python 2",
   "language": "python",
   "name": "python2"
  },
  "language_info": {
   "codemirror_mode": {
    "name": "ipython",
    "version": 2
   },
   "file_extension": ".py",
   "mimetype": "text/x-python",
   "name": "python",
   "nbconvert_exporter": "python",
   "pygments_lexer": "ipython2",
   "version": "2.7.12"
  }
 },
 "nbformat": 4,
 "nbformat_minor": 0
}

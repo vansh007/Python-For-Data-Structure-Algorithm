{
 "cells": [
  {
   "cell_type": "code",
   "execution_count": 11,
   "metadata": {
    "collapsed": false
   },
   "outputs": [
    {
     "name": "stdout",
     "output_type": "stream",
     "text": [
      "5\n",
      "('Median', 3)\n",
      "('Mode', ([2], 4))\n"
     ]
    }
   ],
   "source": [
    "from collections import Counter\n",
    "# Mean:\n",
    "#l = [1,2,3]\n",
    "\n",
    "#sum(l)/len(l)\n",
    "\n",
    "#Median\n",
    "\n",
    "def median(arr):\n",
    "    n = len(arr)\n",
    "    arr1 = sorted(arr)\n",
    "    print n\n",
    "    \n",
    "    if n%2:\n",
    "        return(arr[n/2])\n",
    "    return(arr[n/2]+arr[n/2 - 1])/2.0\n",
    "\n",
    "print (\"Median\", median([1,2,3,4,5]))\n",
    "\n",
    "def mode(list):\n",
    "\n",
    "    d = {}\n",
    "    for elm in list:\n",
    "        try:\n",
    "            d[elm] += 1\n",
    "        except(KeyError):\n",
    "            d[elm] = 1\n",
    "\n",
    "    keys = d.keys()\n",
    "    max = d[keys[0]]\n",
    "    \n",
    "    for key in keys[1:]:\n",
    "        if d[key] > max:\n",
    "            max = d[key]\n",
    "\n",
    "    max_k = []\n",
    "    for key in keys:\n",
    "        if d[key] == max:\n",
    "            max_k.append(key),\n",
    "    return max_k,max\n",
    "\n",
    "\n",
    "print (\"Mode\", mode([1,33,2,2,33,33,2,2]))"
   ]
  },
  {
   "cell_type": "code",
   "execution_count": null,
   "metadata": {
    "collapsed": true
   },
   "outputs": [],
   "source": []
  }
 ],
 "metadata": {
  "kernelspec": {
   "display_name": "Python 2",
   "language": "python",
   "name": "python2"
  },
  "language_info": {
   "codemirror_mode": {
    "name": "ipython",
    "version": 2
   },
   "file_extension": ".py",
   "mimetype": "text/x-python",
   "name": "python",
   "nbconvert_exporter": "python",
   "pygments_lexer": "ipython2",
   "version": "2.7.12"
  }
 },
 "nbformat": 4,
 "nbformat_minor": 0
}

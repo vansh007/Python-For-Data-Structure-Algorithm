{
 "cells": [
  {
   "cell_type": "markdown",
   "metadata": {},
   "source": [
    "### Problem\n",
    "#### Given an integer array, output all the unique pairs that sum up to a specific value k.\n",
    "\n",
    "#### So the input:\n",
    "\n",
    "#### pair_sum([1,3,2,2],4)\n",
    "\n",
    "#### would return 2 pairs:\n",
    "\n",
    "#### (1,3)\n",
    "#### (2,2)\n",
    "#### Total pairs: 2"
   ]
  },
  {
   "cell_type": "markdown",
   "metadata": {},
   "source": [
    "### Solution:"
   ]
  },
  {
   "cell_type": "code",
   "execution_count": 40,
   "metadata": {
    "collapsed": false
   },
   "outputs": [],
   "source": [
    "def find_sum(arr,k):\n",
    "    \n",
    "    #Edge case check\n",
    "    if len(arr)<2:\n",
    "        return 'Your array length should be greater then 2'\n",
    "    \n",
    "    seen = set()\n",
    "    output = set()\n",
    "    \n",
    "    for num in arr:\n",
    "        \n",
    "        target = k-num\n",
    "        \n",
    "        #If the target is already present in seen, add it to the output along with num.\n",
    "        #If Target is not present in seen, add the num to the seen.\n",
    "        \n",
    "        if target not in seen:\n",
    "            seen.add(num)\n",
    "        else:\n",
    "            output.add( ((min(num,target)), (max(num,target))) )\n",
    "        \n",
    "    #return len(output)\n",
    "    print '\\n' .join(map(str,list(output)))\n",
    "    print 'Total Number of Pairs:', len(output) \n",
    "   "
   ]
  },
  {
   "cell_type": "code",
   "execution_count": 41,
   "metadata": {
    "collapsed": false
   },
   "outputs": [
    {
     "name": "stdout",
     "output_type": "stream",
     "text": [
      "(1, 3)\n",
      "(2, 2)\n",
      "Total Number of Pairs: 2\n"
     ]
    }
   ],
   "source": [
    "find_sum([1,3,2,2],4)"
   ]
  },
  {
   "cell_type": "code",
   "execution_count": null,
   "metadata": {
    "collapsed": true
   },
   "outputs": [],
   "source": []
  }
 ],
 "metadata": {
  "kernelspec": {
   "display_name": "Python 2",
   "language": "python",
   "name": "python2"
  },
  "language_info": {
   "codemirror_mode": {
    "name": "ipython",
    "version": 2
   },
   "file_extension": ".py",
   "mimetype": "text/x-python",
   "name": "python",
   "nbconvert_exporter": "python",
   "pygments_lexer": "ipython2",
   "version": "2.7.12"
  }
 },
 "nbformat": 4,
 "nbformat_minor": 0
}

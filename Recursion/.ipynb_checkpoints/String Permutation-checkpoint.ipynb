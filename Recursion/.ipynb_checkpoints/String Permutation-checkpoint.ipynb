{
 "cells": [
  {
   "cell_type": "markdown",
   "metadata": {},
   "source": [
    "### String Permutation\n",
    "#### Problem Statement\n",
    "Given a string, write a function that uses recursion to output a list of all the possible permutations of that string.\n",
    "\n",
    "For example, given s='abc' the function should return ['abc', 'acb', 'bac', 'bca', 'cab', 'cba']\n",
    "\n",
    "Note: If a character is repeated, treat each occurence as distinct, for example an input of 'xxx' would return a list with 6 \"versions\" of 'xxx'\n",
    "\n"
   ]
  },
  {
   "cell_type": "code",
   "execution_count": 21,
   "metadata": {
    "collapsed": false
   },
   "outputs": [],
   "source": [
    "def permute(s):\n",
    "    out = []\n",
    "    \n",
    "    # Base Case\n",
    "    if len(s) == 1:\n",
    "        out = [s]\n",
    "        \n",
    "    else:\n",
    "        # For every letter in string\n",
    "        for i, let in enumerate(s):\n",
    "            \n",
    "            # For every permutation resulting from Step 2 and 3 described above\n",
    "            for perm in permute(s[:i] + s[i+1:]):\n",
    "                \n",
    "                print 'Current letter is:', let\n",
    "                print 'perm is:', perm\n",
    "                \n",
    "                # Add it to output\n",
    "                out += [let + perm]\n",
    "                print 'output is,', out\n",
    "\n",
    "    return out"
   ]
  },
  {
   "cell_type": "code",
   "execution_count": 22,
   "metadata": {
    "collapsed": false
   },
   "outputs": [
    {
     "name": "stdout",
     "output_type": "stream",
     "text": [
      "Current letter is: a\n",
      "perm is: c\n",
      "output is, ['ac']\n",
      "Current letter is: c\n",
      "perm is: a\n",
      "output is, ['ac', 'ca']\n",
      "Current letter is: b\n",
      "perm is: ac\n",
      "output is, ['bac']\n",
      "Current letter is: b\n",
      "perm is: ca\n",
      "output is, ['bac', 'bca']\n",
      "Current letter is: b\n",
      "perm is: c\n",
      "output is, ['bc']\n",
      "Current letter is: c\n",
      "perm is: b\n",
      "output is, ['bc', 'cb']\n",
      "Current letter is: a\n",
      "perm is: bc\n",
      "output is, ['bac', 'bca', 'abc']\n",
      "Current letter is: a\n",
      "perm is: cb\n",
      "output is, ['bac', 'bca', 'abc', 'acb']\n",
      "Current letter is: b\n",
      "perm is: a\n",
      "output is, ['ba']\n",
      "Current letter is: a\n",
      "perm is: b\n",
      "output is, ['ba', 'ab']\n",
      "Current letter is: c\n",
      "perm is: ba\n",
      "output is, ['bac', 'bca', 'abc', 'acb', 'cba']\n",
      "Current letter is: c\n",
      "perm is: ab\n",
      "output is, ['bac', 'bca', 'abc', 'acb', 'cba', 'cab']\n"
     ]
    },
    {
     "data": {
      "text/plain": [
       "['bac', 'bca', 'abc', 'acb', 'cba', 'cab']"
      ]
     },
     "execution_count": 22,
     "metadata": {},
     "output_type": "execute_result"
    }
   ],
   "source": [
    "permute('bac')"
   ]
  },
  {
   "cell_type": "code",
   "execution_count": null,
   "metadata": {
    "collapsed": true
   },
   "outputs": [],
   "source": []
  }
 ],
 "metadata": {
  "kernelspec": {
   "display_name": "Python 2",
   "language": "python",
   "name": "python2"
  },
  "language_info": {
   "codemirror_mode": {
    "name": "ipython",
    "version": 2
   },
   "file_extension": ".py",
   "mimetype": "text/x-python",
   "name": "python",
   "nbconvert_exporter": "python",
   "pygments_lexer": "ipython2",
   "version": "2.7.12"
  }
 },
 "nbformat": 4,
 "nbformat_minor": 0
}

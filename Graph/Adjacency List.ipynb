{
 "cells": [
  {
   "cell_type": "code",
   "execution_count": 13,
   "metadata": {
    "collapsed": true
   },
   "outputs": [],
   "source": [
    "class Vertex:\n",
    "    \n",
    "    def __init__(self,key):\n",
    "        self.id = key\n",
    "        self.connectedTo = {}\n",
    "    \n",
    "    def addNeighbour(self,nbr,weight = 0):\n",
    "        \n",
    "        self.connectedTo[nbr] = weight\n",
    "    \n",
    "    def getConnections(self):\n",
    "        return self.connectedTo.keys()\n",
    "    \n",
    "    def getId(self):\n",
    "        return self.id\n",
    "    \n",
    "    def getWeight(self,nbr):\n",
    "        return self.connectedTo[nbr]\n",
    "    \n",
    "    def __str__(self):\n",
    "        \n",
    "        return str(self.id) + ' Connected to ' + str([x.id for x in self.connectedTo])"
   ]
  },
  {
   "cell_type": "code",
   "execution_count": 39,
   "metadata": {
    "collapsed": true
   },
   "outputs": [],
   "source": [
    "class Graph:\n",
    "    \n",
    "    def __init__(self):\n",
    "        \n",
    "        self.verticeList = {}\n",
    "        self.numVertices = 0\n",
    "    \n",
    "    def addVertex(self,key):\n",
    "        \n",
    "        self.numVertices += 1\n",
    "        newVertex = Vertex(key)\n",
    "        self.verticeList[key] = newVertex\n",
    "        return newVertex\n",
    "    \n",
    "    def getVertex(self,n):\n",
    "        \n",
    "        if n in self.verticeList:\n",
    "            return self.verticeList[n]\n",
    "        else:\n",
    "            return None\n",
    "        \n",
    "    def addEdge(self,f,t,cost = 0):\n",
    "        \n",
    "        if f not in self.verticeList:\n",
    "            nv = self.addVertex(f)\n",
    "        \n",
    "        if t not in self.verticeList:\n",
    "            nv = self.addVertex(t)\n",
    "            \n",
    "        self.verticeList[f].addNeighbour(self.verticeList[t],cost)\n",
    "        \n",
    "    def getVertices(self):\n",
    "        self.verticeList.keys()\n",
    "        \n",
    "    def __iter__(self):\n",
    "        \n",
    "        return iter(self.verticeList.values())\n",
    "    \n",
    "    def __cointains__(self,n):\n",
    "        \n",
    "        return n in self.verticeList\n",
    "            \n",
    "        "
   ]
  },
  {
   "cell_type": "code",
   "execution_count": 40,
   "metadata": {
    "collapsed": true
   },
   "outputs": [],
   "source": [
    "g = Graph()"
   ]
  },
  {
   "cell_type": "code",
   "execution_count": 41,
   "metadata": {
    "collapsed": true
   },
   "outputs": [],
   "source": [
    "for i in range(6):\n",
    "    g.addVertex(i)"
   ]
  },
  {
   "cell_type": "code",
   "execution_count": 42,
   "metadata": {
    "collapsed": false
   },
   "outputs": [
    {
     "data": {
      "text/plain": [
       "{0: <__main__.Vertex instance at 0x00000000041B3EC8>,\n",
       " 1: <__main__.Vertex instance at 0x00000000041B3608>,\n",
       " 2: <__main__.Vertex instance at 0x00000000041B3D48>,\n",
       " 3: <__main__.Vertex instance at 0x00000000041B3D88>,\n",
       " 4: <__main__.Vertex instance at 0x00000000041B3A88>,\n",
       " 5: <__main__.Vertex instance at 0x00000000041B3C88>}"
      ]
     },
     "execution_count": 42,
     "metadata": {},
     "output_type": "execute_result"
    }
   ],
   "source": [
    "g.verticeList"
   ]
  },
  {
   "cell_type": "code",
   "execution_count": 43,
   "metadata": {
    "collapsed": true
   },
   "outputs": [],
   "source": [
    "g.addEdge(0,3,2)\n",
    "g.addEdge(0,5,2)\n",
    "g.addEdge(4,5,12)\n"
   ]
  },
  {
   "cell_type": "code",
   "execution_count": 49,
   "metadata": {
    "collapsed": false
   },
   "outputs": [
    {
     "name": "stdout",
     "output_type": "stream",
     "text": [
      "0 Connected to [3, 5]\n",
      "\n",
      "\n",
      "1 Connected to []\n",
      "\n",
      "\n",
      "2 Connected to []\n",
      "\n",
      "\n",
      "3 Connected to []\n",
      "\n",
      "\n",
      "4 Connected to [5]\n",
      "\n",
      "\n",
      "5 Connected to []\n",
      "\n",
      "\n"
     ]
    }
   ],
   "source": [
    "for vertex in g:\n",
    "    print vertex\n",
    "    #print vertex.getConnections\n",
    "    print '\\n'\n",
    "\n"
   ]
  },
  {
   "cell_type": "code",
   "execution_count": null,
   "metadata": {
    "collapsed": true
   },
   "outputs": [],
   "source": []
  }
 ],
 "metadata": {
  "kernelspec": {
   "display_name": "Python 2",
   "language": "python",
   "name": "python2"
  },
  "language_info": {
   "codemirror_mode": {
    "name": "ipython",
    "version": 2
   },
   "file_extension": ".py",
   "mimetype": "text/x-python",
   "name": "python",
   "nbconvert_exporter": "python",
   "pygments_lexer": "ipython2",
   "version": "2.7.12"
  }
 },
 "nbformat": 4,
 "nbformat_minor": 0
}

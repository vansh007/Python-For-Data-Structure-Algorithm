{
 "cells": [
  {
   "cell_type": "code",
   "execution_count": 1,
   "metadata": {
    "collapsed": true
   },
   "outputs": [],
   "source": [
    "def shell_sort(arr):\n",
    "    \n",
    "    sublistCount = len(arr)/2\n",
    "    \n",
    "    while sublistCount > 0:\n",
    "        \n",
    "        for start in range(sublistCount):\n",
    "            \n",
    "            gap_insertion_sort(arr,start,sublistCount)\n",
    "        \n",
    "        sublistCount = sublistCount/2\n",
    "\n",
    "\n",
    "        \n",
    "def gap_insertion_sort(arr,start,gap):\n",
    "    for i in range(start+gap,len(arr),gap):\n",
    "        currentValue = arr[i]\n",
    "        position = i\n",
    "    \n",
    "        while position >= gap and arr[position-gap] > currentValue:\n",
    "            arr[position] = arr[position-gap]\n",
    "            position = position - gap\n",
    "        arr[position] = currentValue\n",
    "    "
   ]
  },
  {
   "cell_type": "code",
   "execution_count": 2,
   "metadata": {
    "collapsed": true
   },
   "outputs": [],
   "source": [
    "arr = [1,2,4,23,76,43,56,3,21]"
   ]
  },
  {
   "cell_type": "code",
   "execution_count": 3,
   "metadata": {
    "collapsed": true
   },
   "outputs": [],
   "source": [
    "shell_sort(arr)"
   ]
  },
  {
   "cell_type": "code",
   "execution_count": 4,
   "metadata": {
    "collapsed": false
   },
   "outputs": [
    {
     "data": {
      "text/plain": [
       "[1, 2, 3, 4, 21, 23, 43, 56, 76]"
      ]
     },
     "execution_count": 4,
     "metadata": {},
     "output_type": "execute_result"
    }
   ],
   "source": [
    "arr"
   ]
  },
  {
   "cell_type": "code",
   "execution_count": null,
   "metadata": {
    "collapsed": true
   },
   "outputs": [],
   "source": []
  }
 ],
 "metadata": {
  "kernelspec": {
   "display_name": "Python 2",
   "language": "python",
   "name": "python2"
  },
  "language_info": {
   "codemirror_mode": {
    "name": "ipython",
    "version": 2
   },
   "file_extension": ".py",
   "mimetype": "text/x-python",
   "name": "python",
   "nbconvert_exporter": "python",
   "pygments_lexer": "ipython2",
   "version": "2.7.12"
  }
 },
 "nbformat": 4,
 "nbformat_minor": 0
}

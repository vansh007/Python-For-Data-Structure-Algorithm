{
 "cells": [
  {
   "cell_type": "markdown",
   "metadata": {},
   "source": [
    "### Linked List Nth to Last Node\n",
    "#### Problem Statement\n",
    "Write a function that takes a head node and an integer value n and then returns the nth to last node in the linked list. For example, given:"
   ]
  },
  {
   "cell_type": "code",
   "execution_count": 1,
   "metadata": {
    "collapsed": true
   },
   "outputs": [],
   "source": [
    "class Node:\n",
    "\n",
    "    def __init__(self, value):\n",
    "        self.value = value\n",
    "        self.nextnode  = None"
   ]
  },
  {
   "cell_type": "code",
   "execution_count": 2,
   "metadata": {
    "collapsed": false
   },
   "outputs": [],
   "source": [
    "def nth_to_last_node(n, head):\n",
    "\n",
    "    left_pointer  = head\n",
    "    right_pointer = head\n",
    "\n",
    "    # Set right pointer at n nodes away from head\n",
    "    for i in xrange(n-1):\n",
    "        \n",
    "        # Check for edge case of not having enough nodes!\n",
    "        if not right_pointer.nextnode:\n",
    "            raise LookupError('Error: n is larger than the linked list.')\n",
    "\n",
    "        # Otherwise, we can set the block\n",
    "        right_pointer = right_pointer.nextnode\n",
    "\n",
    "    # Move the block down the linked list\n",
    "    while right_pointer.nextnode:\n",
    "        left_pointer  = left_pointer.nextnode\n",
    "        right_pointer = right_pointer.nextnode\n",
    "\n",
    "    # Now return left pointer, its at the nth to last element!\n",
    "    return left_pointer\n",
    "    \n",
    "  "
   ]
  },
  {
   "cell_type": "code",
   "execution_count": 4,
   "metadata": {
    "collapsed": false
   },
   "outputs": [
    {
     "name": "stdout",
     "output_type": "stream",
     "text": [
      "ALL TEST CASES PASSED\n"
     ]
    }
   ],
   "source": [
    "from nose.tools import assert_equal\n",
    "\n",
    "a = Node(1)\n",
    "b = Node(2)\n",
    "c = Node(3)\n",
    "d = Node(4)\n",
    "e = Node(5)\n",
    "\n",
    "a.nextnode = b\n",
    "b.nextnode = c\n",
    "c.nextnode = d\n",
    "d.nextnode = e\n",
    "\n",
    "####\n",
    "\n",
    "class TestNLast(object):\n",
    "    \n",
    "    def test(self,sol):\n",
    "        \n",
    "        assert_equal(sol(2,a),d)\n",
    "        print 'ALL TEST CASES PASSED'\n",
    "        \n",
    "# Run tests\n",
    "t = TestNLast()\n",
    "t.test(nth_to_last_node)"
   ]
  },
  {
   "cell_type": "code",
   "execution_count": null,
   "metadata": {
    "collapsed": true
   },
   "outputs": [],
   "source": []
  }
 ],
 "metadata": {
  "kernelspec": {
   "display_name": "Python 2",
   "language": "python",
   "name": "python2"
  },
  "language_info": {
   "codemirror_mode": {
    "name": "ipython",
    "version": 2
   },
   "file_extension": ".py",
   "mimetype": "text/x-python",
   "name": "python",
   "nbconvert_exporter": "python",
   "pygments_lexer": "ipython2",
   "version": "2.7.12"
  }
 },
 "nbformat": 4,
 "nbformat_minor": 0
}

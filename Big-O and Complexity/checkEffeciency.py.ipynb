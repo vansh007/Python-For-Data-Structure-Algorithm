{
 "cells": [
  {
   "cell_type": "code",
   "execution_count": 2,
   "metadata": {
    "collapsed": false
   },
   "outputs": [
    {
     "name": "stdout",
     "output_type": "stream",
     "text": [
      "55\n",
      "55\n",
      "100000 loops, best of 3: 3.46 µs per loop\n",
      "The slowest run took 9.30 times longer than the fastest. This could mean that an intermediate result is being cached.\n",
      "10000000 loops, best of 3: 127 ns per loop\n"
     ]
    }
   ],
   "source": [
    "import timeit\n",
    "\n",
    "# First user uses this function\n",
    "def sum1(n):\n",
    "    final_sum = 0\n",
    "\n",
    "    for x in range(n+1):\n",
    "        final_sum += x\n",
    "\n",
    "    return final_sum\n",
    "print sum1(10)\n",
    "\n",
    "# Second User uses this function\n",
    "\n",
    "def sum2(n):\n",
    "    return (n*(n+1))/2\n",
    "print sum2(10)\n",
    "\n",
    "#Note that both function gives same answer but have different complexity\n",
    "#Lets find out complexity of both\n",
    "#We can use %timeit sum1(100) and %timeit sum2(100) on Jupyter Notebook\n",
    "\n",
    "%timeit sum1(100)\n",
    "%timeit sum2(100)\n"
   ]
  },
  {
   "cell_type": "code",
   "execution_count": null,
   "metadata": {
    "collapsed": true
   },
   "outputs": [],
   "source": []
  }
 ],
 "metadata": {
  "kernelspec": {
   "display_name": "Python 2",
   "language": "python",
   "name": "python2"
  },
  "language_info": {
   "codemirror_mode": {
    "name": "ipython",
    "version": 2
   },
   "file_extension": ".py",
   "mimetype": "text/x-python",
   "name": "python",
   "nbconvert_exporter": "python",
   "pygments_lexer": "ipython2",
   "version": "2.7.12"
  }
 },
 "nbformat": 4,
 "nbformat_minor": 0
}

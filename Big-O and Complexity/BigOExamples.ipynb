{
 "cells": [
  {
   "cell_type": "markdown",
   "metadata": {},
   "source": [
    "# Big O(1) Constant"
   ]
  },
  {
   "cell_type": "code",
   "execution_count": 2,
   "metadata": {
    "collapsed": false
   },
   "outputs": [
    {
     "name": "stdout",
     "output_type": "stream",
     "text": [
      "1\n",
      "4\n",
      "3\n"
     ]
    }
   ],
   "source": [
    "def function_constant(values):\n",
    "    print values[0]\n",
    "    print values[3]\n",
    "    print values[2]\n",
    "# No matter how long the list, it will only print one value. No need to iterate so it has constant time complexity.\n",
    "list = [1,2,3,4,5,6,7]\n",
    "function_constant(list)\n",
    "    "
   ]
  },
  {
   "cell_type": "markdown",
   "metadata": {},
   "source": [
    "# Big O(n) : Linear Time"
   ]
  },
  {
   "cell_type": "code",
   "execution_count": 10,
   "metadata": {
    "collapsed": false
   },
   "outputs": [
    {
     "name": "stdout",
     "output_type": "stream",
     "text": [
      "1\n",
      "2\n",
      "3\n",
      "4\n",
      "5\n",
      "6\n",
      "4\n",
      "5\n",
      "6\n",
      "7\n"
     ]
    }
   ],
   "source": [
    "def function_linear(values):\n",
    "    for list in values:\n",
    "        print list\n",
    "\n",
    "#Iterate through all the list values\n",
    "list = [1,2,3,4,5,6,4,5,6,7]\n",
    "function_linear(list)"
   ]
  },
  {
   "cell_type": "markdown",
   "metadata": {},
   "source": [
    "# Big O (n^2) : Quadratic Time "
   ]
  },
  {
   "cell_type": "code",
   "execution_count": 12,
   "metadata": {
    "collapsed": false
   },
   "outputs": [
    {
     "name": "stdout",
     "output_type": "stream",
     "text": [
      "1 1\n",
      "1 2\n",
      "1 3\n",
      "1 4\n",
      "2 1\n",
      "2 2\n",
      "2 3\n",
      "2 4\n",
      "3 1\n",
      "3 2\n",
      "3 3\n",
      "3 4\n",
      "4 1\n",
      "4 2\n",
      "4 3\n",
      "4 4\n"
     ]
    }
   ],
   "source": [
    "def function_quadratic(list):\n",
    "    for item_1 in list:\n",
    "        for item_2 in list:\n",
    "            print item_1, item_2\n",
    "\n",
    "            #For item_1 it will iterate all the items in list to get item_2 | n*n\n",
    "list = [1,2,3,4]\n",
    "function_quadratic(list)\n"
   ]
  },
  {
   "cell_type": "code",
   "execution_count": 14,
   "metadata": {
    "collapsed": false
   },
   "outputs": [
    {
     "name": "stdout",
     "output_type": "stream",
     "text": [
      "1\n",
      "2\n",
      "3\n",
      "1\n",
      "2\n",
      "3\n"
     ]
    }
   ],
   "source": [
    "def function_twice(list):\n",
    "    for one in list:\n",
    "        print one\n",
    "    for two in list:\n",
    "        print two\n",
    "\n",
    "# Complexity here is n+n = Big O(2n). We can drop comstant so it will be Big O(n)\n",
    "list = [1,2,3]\n",
    "function_twice(list)"
   ]
  },
  {
   "cell_type": "code",
   "execution_count": 16,
   "metadata": {
    "collapsed": false
   },
   "outputs": [
    {
     "name": "stdout",
     "output_type": "stream",
     "text": [
      "1\n",
      "1\n",
      "2\n",
      "3\n",
      "4\n",
      "5\n",
      "Hello World\n",
      "Hello World\n",
      "Hello World\n",
      "Hello World\n",
      "Hello World\n",
      "Hello World\n",
      "Hello World\n",
      "Hello World\n",
      "Hello World\n",
      "Hello World\n"
     ]
    }
   ],
   "source": [
    "def more_complex(list):\n",
    "    print list[0]\n",
    "    \n",
    "    midpoint = len(list)/2\n",
    "    for x in list[:midpoint]:\n",
    "        print x\n",
    "        \n",
    "    for x in range(10):\n",
    "        print 'Hello World'\n",
    "\n",
    "list = [1,2,3,4,5,6,7,8,9,6,4]\n",
    "more_complex(list)\n",
    "        "
   ]
  },
  {
   "cell_type": "markdown",
   "metadata": {},
   "source": [
    "# Big O (1 + n/2 + 10)\n",
    "\n",
    "# Big O (n)"
   ]
  },
  {
   "cell_type": "code",
   "execution_count": 31,
   "metadata": {
    "collapsed": false
   },
   "outputs": [
    {
     "data": {
      "text/plain": [
       "True"
      ]
     },
     "execution_count": 31,
     "metadata": {},
     "output_type": "execute_result"
    }
   ],
   "source": [
    "# Check whether the Item is in the List or not\n",
    "def matcher(list, match):\n",
    "    for item in list:\n",
    "        if item == match:\n",
    "            return True\n",
    "            \n",
    "        \n",
    "    return False\n",
    "\n",
    "list = [1,2,3,4,5,6]\n",
    "matcher (list,1) # Best Case O(1)\n",
    "\n"
   ]
  },
  {
   "cell_type": "code",
   "execution_count": 32,
   "metadata": {
    "collapsed": false
   },
   "outputs": [
    {
     "data": {
      "text/plain": [
       "True"
      ]
     },
     "execution_count": 32,
     "metadata": {},
     "output_type": "execute_result"
    }
   ],
   "source": [
    "matcher (list, 6) # Worst Case O(n)"
   ]
  },
  {
   "cell_type": "markdown",
   "metadata": {},
   "source": [
    "# Space Complexity"
   ]
  },
  {
   "cell_type": "code",
   "execution_count": 36,
   "metadata": {
    "collapsed": false
   },
   "outputs": [
    {
     "data": {
      "text/plain": [
       "['new', 'new', 'new', 'new', 'new']"
      ]
     },
     "execution_count": 36,
     "metadata": {},
     "output_type": "execute_result"
    }
   ],
   "source": [
    "def create_list(n):\n",
    "    new_list = []\n",
    "    for item in range(n):\n",
    "        new_list.append('new')\n",
    "    return new_list\n",
    "\n",
    "create_list(5)"
   ]
  },
  {
   "cell_type": "markdown",
   "metadata": {},
   "source": [
    "# Space Complexity is Big O(n) & Time Complexity is also Big O(n)"
   ]
  },
  {
   "cell_type": "code",
   "execution_count": 40,
   "metadata": {
    "collapsed": false
   },
   "outputs": [
    {
     "name": "stdout",
     "output_type": "stream",
     "text": [
      "Hello World!\n",
      "Hello World!\n",
      "Hello World!\n",
      "Hello World!\n",
      "Hello World!\n"
     ]
    }
   ],
   "source": [
    "def print_itme(n):\n",
    "    for item in range(n): #Time complexity O(n)\n",
    "        print 'Hello World!' # Space Complexity O(1)\n",
    "\n",
    "print_itme(5)"
   ]
  },
  {
   "cell_type": "markdown",
   "metadata": {},
   "source": [
    "# Space Complexity is Big O(1) & Time Complexity is Big O(n)\n",
    "### Because we only need to save one item"
   ]
  },
  {
   "cell_type": "markdown",
   "metadata": {},
   "source": [
    "### Follow this link to understand more about Big O: \n",
    "http://stackoverflow.com/questions/487258/what-is-a-plain-english-explanation-of-big-o-notation/487278#487278"
   ]
  },
  {
   "cell_type": "code",
   "execution_count": 44,
   "metadata": {
    "collapsed": false
   },
   "outputs": [
    {
     "data": {
      "text/plain": [
       "{1, 2, 3, 4, 5, 6, 7, 8, 9}"
      ]
     },
     "execution_count": 44,
     "metadata": {},
     "output_type": "execute_result"
    }
   ],
   "source": [
    "c = (1, 5, 3, 4, 2,9,7,8,6)\n",
    "set(c)"
   ]
  },
  {
   "cell_type": "code",
   "execution_count": null,
   "metadata": {
    "collapsed": true
   },
   "outputs": [],
   "source": []
  }
 ],
 "metadata": {
  "kernelspec": {
   "display_name": "Python 2",
   "language": "python",
   "name": "python2"
  },
  "language_info": {
   "codemirror_mode": {
    "name": "ipython",
    "version": 2
   },
   "file_extension": ".py",
   "mimetype": "text/x-python",
   "name": "python",
   "nbconvert_exporter": "python",
   "pygments_lexer": "ipython2",
   "version": "2.7.12"
  }
 },
 "nbformat": 4,
 "nbformat_minor": 0
}
